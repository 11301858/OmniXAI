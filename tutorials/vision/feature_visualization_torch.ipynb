{
 "cells": [
  {
   "cell_type": "markdown",
   "id": "36b2e1f7",
   "metadata": {},
   "source": [
    "### Feature visualization (PyTorch)"
   ]
  },
  {
   "cell_type": "markdown",
   "id": "f6e3e235",
   "metadata": {},
   "source": [
    "This is an example of feature visualization with a Tensorflow model. The feature visualization in OmniXAI is an optimization-based method, allowing to set different objectives, e.g., layer, channel, neuron or direction. For more information, please visit https://distill.pub/2017/feature-visualization/"
   ]
  },
  {
   "cell_type": "code",
   "execution_count": null,
   "id": "a4c544b0",
   "metadata": {},
   "outputs": [],
   "source": [
    "# This default renderer is used for sphinx docs only. Please delete this cell in IPython.\n",
    "import plotly.io as pio\n",
    "pio.renderers.default = \"png\""
   ]
  },
  {
   "cell_type": "code",
   "execution_count": null,
   "id": "4fabf592",
   "metadata": {},
   "outputs": [],
   "source": [
    "import torch\n",
    "from torchvision import models\n",
    "from omnixai.explainers.vision.specific.feature_visualization.visualizer import FeatureVisualizer"
   ]
  },
  {
   "cell_type": "markdown",
   "id": "666a9731",
   "metadata": {},
   "source": [
    "Here we choose the VGG16 model for demonstration (you may test other CNN models, e.g., ResNet). The target layer is the layer to analyze."
   ]
  },
  {
   "cell_type": "code",
   "execution_count": null,
   "id": "0eb459cc",
   "metadata": {},
   "outputs": [],
   "source": [
    "device = \"cuda\" if torch.cuda.is_available() else \"cpu\"\n",
    "model = models.vgg16(pretrained=True).to(device)\n",
    "target_layer = model.features[20]"
   ]
  },
  {
   "cell_type": "markdown",
   "id": "6fae9780",
   "metadata": {},
   "source": [
    "The first example is the \"layer\" objective, where we optimize the input image such that the average output of the layer is maximized."
   ]
  },
  {
   "cell_type": "code",
   "execution_count": null,
   "id": "dfc09a1e",
   "metadata": {},
   "outputs": [],
   "source": [
    "optimizer = FeatureVisualizer(\n",
    "    model=model,\n",
    "    objectives=[{\"layer\": target_layer, \"type\": \"layer\"}]\n",
    ")\n",
    "explanations = optimizer.explain(\n",
    "    num_iterations=300,\n",
    "    image_shape=(224, 224)\n",
    ")\n",
    "explanations.ipython_plot()"
   ]
  },
  {
   "cell_type": "markdown",
   "id": "c6cb1065",
   "metadata": {},
   "source": [
    "The second example is the \"channel\" objective, where the input image is optimized such that the output of the specified channel is maximized."
   ]
  },
  {
   "cell_type": "code",
   "execution_count": null,
   "id": "9313f506",
   "metadata": {},
   "outputs": [],
   "source": [
    "optimizer = FeatureVisualizer(\n",
    "    model=smodel,\n",
    "    objectives=[{\"layer\": target_layer, \"type\": \"channel\", \"index\": list(range(5))}]\n",
    ")\n",
    "explanations = optimizer.explain(\n",
    "    num_iterations=300,\n",
    "    image_shape=(224, 224)\n",
    ")\n",
    "explanations.ipython_plot()"
   ]
  },
  {
   "cell_type": "markdown",
   "id": "d29b3643",
   "metadata": {},
   "source": [
    "We can also consider a combination of multiple objectives. The default weight for each objective is 1.0. We can set other weights as well."
   ]
  },
  {
   "cell_type": "code",
   "execution_count": null,
   "id": "07a2e958",
   "metadata": {},
   "outputs": [],
   "source": [
    "optimizer = FeatureVisualizer(\n",
    "    model=model,\n",
    "    objectives=[\n",
    "        {\"layer\": target_layer, \"type\": \"layer\", \"weight\": 0.1},\n",
    "        {\"layer\": target_layer, \"type\": \"channel\", \"index\": list(range(5))}\n",
    "    ]\n",
    ")\n",
    "explanations = optimizer.explain(\n",
    "    num_iterations=300,\n",
    "    image_shape=(224, 224)\n",
    ")\n",
    "explanations.ipython_plot()"
   ]
  }
 ],
 "metadata": {
  "kernelspec": {
   "display_name": "Python 3 (ipykernel)",
   "language": "python",
   "name": "python3"
  },
  "language_info": {
   "codemirror_mode": {
    "name": "ipython",
    "version": 3
   },
   "file_extension": ".py",
   "mimetype": "text/x-python",
   "name": "python",
   "nbconvert_exporter": "python",
   "pygments_lexer": "ipython3",
   "version": "3.10.4"
  }
 },
 "nbformat": 4,
 "nbformat_minor": 5
}
